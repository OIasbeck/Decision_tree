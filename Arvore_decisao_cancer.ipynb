{
 "cells": [
  {
   "cell_type": "code",
   "execution_count": 199,
   "id": "449587f6-532f-47fc-a6d4-c7bc0dbc2053",
   "metadata": {},
   "outputs": [],
   "source": [
    "import pandas as pd\n",
    "from sklearn.model_selection import StratifiedShuffleSplit\n",
    "from sklearn import tree\n",
    "from sklearn.tree import export_graphviz\n",
    "import numpy as np\n",
    "import math"
   ]
  },
  {
   "cell_type": "code",
   "execution_count": 200,
   "id": "152c1b88-8123-44d1-8f40-9ca5d4b67796",
   "metadata": {},
   "outputs": [],
   "source": [
    "df = pd.read_csv(\"cancer_data.csv\", sep = None, engine = \"python\")"
   ]
  },
  {
   "cell_type": "markdown",
   "id": "17880bc1-8b13-4858-9da8-3eef27078e7b",
   "metadata": {},
   "source": [
    "### Explorando e tratando os dados"
   ]
  },
  {
   "cell_type": "code",
   "execution_count": 201,
   "id": "bd2f31e2-0275-448a-afc8-4e11aab865ac",
   "metadata": {},
   "outputs": [
    {
     "name": "stdout",
     "output_type": "stream",
     "text": [
      "<class 'pandas.core.frame.DataFrame'>\n",
      "RangeIndex: 569 entries, 0 to 568\n",
      "Data columns (total 33 columns):\n",
      " #   Column                   Non-Null Count  Dtype  \n",
      "---  ------                   --------------  -----  \n",
      " 0   id                       569 non-null    int64  \n",
      " 1   diagnosis                569 non-null    object \n",
      " 2   radius_mean              569 non-null    float64\n",
      " 3   texture_mean             569 non-null    float64\n",
      " 4   perimeter_mean           569 non-null    float64\n",
      " 5   area_mean                569 non-null    float64\n",
      " 6   smoothness_mean          569 non-null    float64\n",
      " 7   compactness_mean         569 non-null    float64\n",
      " 8   concavity_mean           569 non-null    float64\n",
      " 9   concave points_mean      569 non-null    float64\n",
      " 10  symmetry_mean            569 non-null    float64\n",
      " 11  fractal_dimension_mean   569 non-null    float64\n",
      " 12  radius_se                569 non-null    float64\n",
      " 13  texture_se               569 non-null    float64\n",
      " 14  perimeter_se             569 non-null    float64\n",
      " 15  area_se                  569 non-null    float64\n",
      " 16  smoothness_se            569 non-null    float64\n",
      " 17  compactness_se           569 non-null    float64\n",
      " 18  concavity_se             569 non-null    float64\n",
      " 19  concave points_se        569 non-null    float64\n",
      " 20  symmetry_se              569 non-null    float64\n",
      " 21  fractal_dimension_se     569 non-null    float64\n",
      " 22  radius_worst             569 non-null    float64\n",
      " 23  texture_worst            569 non-null    float64\n",
      " 24  perimeter_worst          569 non-null    float64\n",
      " 25  area_worst               569 non-null    float64\n",
      " 26  smoothness_worst         569 non-null    float64\n",
      " 27  compactness_worst        569 non-null    float64\n",
      " 28  concavity_worst          569 non-null    float64\n",
      " 29  concave points_worst     569 non-null    float64\n",
      " 30  symmetry_worst           569 non-null    float64\n",
      " 31  fractal_dimension_worst  569 non-null    float64\n",
      " 32  Unnamed: 32              0 non-null      float64\n",
      "dtypes: float64(31), int64(1), object(1)\n",
      "memory usage: 146.8+ KB\n"
     ]
    }
   ],
   "source": [
    "df.info()"
   ]
  },
  {
   "cell_type": "code",
   "execution_count": 202,
   "id": "dbf1573d-254f-4b06-89d6-a006c9da81af",
   "metadata": {},
   "outputs": [
    {
     "data": {
      "text/html": [
       "<div>\n",
       "<style scoped>\n",
       "    .dataframe tbody tr th:only-of-type {\n",
       "        vertical-align: middle;\n",
       "    }\n",
       "\n",
       "    .dataframe tbody tr th {\n",
       "        vertical-align: top;\n",
       "    }\n",
       "\n",
       "    .dataframe thead th {\n",
       "        text-align: right;\n",
       "    }\n",
       "</style>\n",
       "<table border=\"1\" class=\"dataframe\">\n",
       "  <thead>\n",
       "    <tr style=\"text-align: right;\">\n",
       "      <th></th>\n",
       "      <th>id</th>\n",
       "      <th>diagnosis</th>\n",
       "      <th>radius_mean</th>\n",
       "      <th>texture_mean</th>\n",
       "      <th>perimeter_mean</th>\n",
       "      <th>area_mean</th>\n",
       "      <th>smoothness_mean</th>\n",
       "      <th>compactness_mean</th>\n",
       "      <th>concavity_mean</th>\n",
       "      <th>concave points_mean</th>\n",
       "      <th>...</th>\n",
       "      <th>texture_worst</th>\n",
       "      <th>perimeter_worst</th>\n",
       "      <th>area_worst</th>\n",
       "      <th>smoothness_worst</th>\n",
       "      <th>compactness_worst</th>\n",
       "      <th>concavity_worst</th>\n",
       "      <th>concave points_worst</th>\n",
       "      <th>symmetry_worst</th>\n",
       "      <th>fractal_dimension_worst</th>\n",
       "      <th>Unnamed: 32</th>\n",
       "    </tr>\n",
       "  </thead>\n",
       "  <tbody>\n",
       "    <tr>\n",
       "      <th>0</th>\n",
       "      <td>842302</td>\n",
       "      <td>M</td>\n",
       "      <td>17.99</td>\n",
       "      <td>10.38</td>\n",
       "      <td>122.80</td>\n",
       "      <td>1001.0</td>\n",
       "      <td>0.11840</td>\n",
       "      <td>0.27760</td>\n",
       "      <td>0.30010</td>\n",
       "      <td>0.14710</td>\n",
       "      <td>...</td>\n",
       "      <td>17.33</td>\n",
       "      <td>184.60</td>\n",
       "      <td>2019.0</td>\n",
       "      <td>0.16220</td>\n",
       "      <td>0.66560</td>\n",
       "      <td>0.7119</td>\n",
       "      <td>0.2654</td>\n",
       "      <td>0.4601</td>\n",
       "      <td>0.11890</td>\n",
       "      <td>NaN</td>\n",
       "    </tr>\n",
       "    <tr>\n",
       "      <th>1</th>\n",
       "      <td>842517</td>\n",
       "      <td>M</td>\n",
       "      <td>20.57</td>\n",
       "      <td>17.77</td>\n",
       "      <td>132.90</td>\n",
       "      <td>1326.0</td>\n",
       "      <td>0.08474</td>\n",
       "      <td>0.07864</td>\n",
       "      <td>0.08690</td>\n",
       "      <td>0.07017</td>\n",
       "      <td>...</td>\n",
       "      <td>23.41</td>\n",
       "      <td>158.80</td>\n",
       "      <td>1956.0</td>\n",
       "      <td>0.12380</td>\n",
       "      <td>0.18660</td>\n",
       "      <td>0.2416</td>\n",
       "      <td>0.1860</td>\n",
       "      <td>0.2750</td>\n",
       "      <td>0.08902</td>\n",
       "      <td>NaN</td>\n",
       "    </tr>\n",
       "    <tr>\n",
       "      <th>2</th>\n",
       "      <td>84300903</td>\n",
       "      <td>M</td>\n",
       "      <td>19.69</td>\n",
       "      <td>21.25</td>\n",
       "      <td>130.00</td>\n",
       "      <td>1203.0</td>\n",
       "      <td>0.10960</td>\n",
       "      <td>0.15990</td>\n",
       "      <td>0.19740</td>\n",
       "      <td>0.12790</td>\n",
       "      <td>...</td>\n",
       "      <td>25.53</td>\n",
       "      <td>152.50</td>\n",
       "      <td>1709.0</td>\n",
       "      <td>0.14440</td>\n",
       "      <td>0.42450</td>\n",
       "      <td>0.4504</td>\n",
       "      <td>0.2430</td>\n",
       "      <td>0.3613</td>\n",
       "      <td>0.08758</td>\n",
       "      <td>NaN</td>\n",
       "    </tr>\n",
       "    <tr>\n",
       "      <th>3</th>\n",
       "      <td>84348301</td>\n",
       "      <td>M</td>\n",
       "      <td>11.42</td>\n",
       "      <td>20.38</td>\n",
       "      <td>77.58</td>\n",
       "      <td>386.1</td>\n",
       "      <td>0.14250</td>\n",
       "      <td>0.28390</td>\n",
       "      <td>0.24140</td>\n",
       "      <td>0.10520</td>\n",
       "      <td>...</td>\n",
       "      <td>26.50</td>\n",
       "      <td>98.87</td>\n",
       "      <td>567.7</td>\n",
       "      <td>0.20980</td>\n",
       "      <td>0.86630</td>\n",
       "      <td>0.6869</td>\n",
       "      <td>0.2575</td>\n",
       "      <td>0.6638</td>\n",
       "      <td>0.17300</td>\n",
       "      <td>NaN</td>\n",
       "    </tr>\n",
       "    <tr>\n",
       "      <th>4</th>\n",
       "      <td>84358402</td>\n",
       "      <td>M</td>\n",
       "      <td>20.29</td>\n",
       "      <td>14.34</td>\n",
       "      <td>135.10</td>\n",
       "      <td>1297.0</td>\n",
       "      <td>0.10030</td>\n",
       "      <td>0.13280</td>\n",
       "      <td>0.19800</td>\n",
       "      <td>0.10430</td>\n",
       "      <td>...</td>\n",
       "      <td>16.67</td>\n",
       "      <td>152.20</td>\n",
       "      <td>1575.0</td>\n",
       "      <td>0.13740</td>\n",
       "      <td>0.20500</td>\n",
       "      <td>0.4000</td>\n",
       "      <td>0.1625</td>\n",
       "      <td>0.2364</td>\n",
       "      <td>0.07678</td>\n",
       "      <td>NaN</td>\n",
       "    </tr>\n",
       "    <tr>\n",
       "      <th>...</th>\n",
       "      <td>...</td>\n",
       "      <td>...</td>\n",
       "      <td>...</td>\n",
       "      <td>...</td>\n",
       "      <td>...</td>\n",
       "      <td>...</td>\n",
       "      <td>...</td>\n",
       "      <td>...</td>\n",
       "      <td>...</td>\n",
       "      <td>...</td>\n",
       "      <td>...</td>\n",
       "      <td>...</td>\n",
       "      <td>...</td>\n",
       "      <td>...</td>\n",
       "      <td>...</td>\n",
       "      <td>...</td>\n",
       "      <td>...</td>\n",
       "      <td>...</td>\n",
       "      <td>...</td>\n",
       "      <td>...</td>\n",
       "      <td>...</td>\n",
       "    </tr>\n",
       "    <tr>\n",
       "      <th>564</th>\n",
       "      <td>926424</td>\n",
       "      <td>M</td>\n",
       "      <td>21.56</td>\n",
       "      <td>22.39</td>\n",
       "      <td>142.00</td>\n",
       "      <td>1479.0</td>\n",
       "      <td>0.11100</td>\n",
       "      <td>0.11590</td>\n",
       "      <td>0.24390</td>\n",
       "      <td>0.13890</td>\n",
       "      <td>...</td>\n",
       "      <td>26.40</td>\n",
       "      <td>166.10</td>\n",
       "      <td>2027.0</td>\n",
       "      <td>0.14100</td>\n",
       "      <td>0.21130</td>\n",
       "      <td>0.4107</td>\n",
       "      <td>0.2216</td>\n",
       "      <td>0.2060</td>\n",
       "      <td>0.07115</td>\n",
       "      <td>NaN</td>\n",
       "    </tr>\n",
       "    <tr>\n",
       "      <th>565</th>\n",
       "      <td>926682</td>\n",
       "      <td>M</td>\n",
       "      <td>20.13</td>\n",
       "      <td>28.25</td>\n",
       "      <td>131.20</td>\n",
       "      <td>1261.0</td>\n",
       "      <td>0.09780</td>\n",
       "      <td>0.10340</td>\n",
       "      <td>0.14400</td>\n",
       "      <td>0.09791</td>\n",
       "      <td>...</td>\n",
       "      <td>38.25</td>\n",
       "      <td>155.00</td>\n",
       "      <td>1731.0</td>\n",
       "      <td>0.11660</td>\n",
       "      <td>0.19220</td>\n",
       "      <td>0.3215</td>\n",
       "      <td>0.1628</td>\n",
       "      <td>0.2572</td>\n",
       "      <td>0.06637</td>\n",
       "      <td>NaN</td>\n",
       "    </tr>\n",
       "    <tr>\n",
       "      <th>566</th>\n",
       "      <td>926954</td>\n",
       "      <td>M</td>\n",
       "      <td>16.60</td>\n",
       "      <td>28.08</td>\n",
       "      <td>108.30</td>\n",
       "      <td>858.1</td>\n",
       "      <td>0.08455</td>\n",
       "      <td>0.10230</td>\n",
       "      <td>0.09251</td>\n",
       "      <td>0.05302</td>\n",
       "      <td>...</td>\n",
       "      <td>34.12</td>\n",
       "      <td>126.70</td>\n",
       "      <td>1124.0</td>\n",
       "      <td>0.11390</td>\n",
       "      <td>0.30940</td>\n",
       "      <td>0.3403</td>\n",
       "      <td>0.1418</td>\n",
       "      <td>0.2218</td>\n",
       "      <td>0.07820</td>\n",
       "      <td>NaN</td>\n",
       "    </tr>\n",
       "    <tr>\n",
       "      <th>567</th>\n",
       "      <td>927241</td>\n",
       "      <td>M</td>\n",
       "      <td>20.60</td>\n",
       "      <td>29.33</td>\n",
       "      <td>140.10</td>\n",
       "      <td>1265.0</td>\n",
       "      <td>0.11780</td>\n",
       "      <td>0.27700</td>\n",
       "      <td>0.35140</td>\n",
       "      <td>0.15200</td>\n",
       "      <td>...</td>\n",
       "      <td>39.42</td>\n",
       "      <td>184.60</td>\n",
       "      <td>1821.0</td>\n",
       "      <td>0.16500</td>\n",
       "      <td>0.86810</td>\n",
       "      <td>0.9387</td>\n",
       "      <td>0.2650</td>\n",
       "      <td>0.4087</td>\n",
       "      <td>0.12400</td>\n",
       "      <td>NaN</td>\n",
       "    </tr>\n",
       "    <tr>\n",
       "      <th>568</th>\n",
       "      <td>92751</td>\n",
       "      <td>B</td>\n",
       "      <td>7.76</td>\n",
       "      <td>24.54</td>\n",
       "      <td>47.92</td>\n",
       "      <td>181.0</td>\n",
       "      <td>0.05263</td>\n",
       "      <td>0.04362</td>\n",
       "      <td>0.00000</td>\n",
       "      <td>0.00000</td>\n",
       "      <td>...</td>\n",
       "      <td>30.37</td>\n",
       "      <td>59.16</td>\n",
       "      <td>268.6</td>\n",
       "      <td>0.08996</td>\n",
       "      <td>0.06444</td>\n",
       "      <td>0.0000</td>\n",
       "      <td>0.0000</td>\n",
       "      <td>0.2871</td>\n",
       "      <td>0.07039</td>\n",
       "      <td>NaN</td>\n",
       "    </tr>\n",
       "  </tbody>\n",
       "</table>\n",
       "<p>569 rows × 33 columns</p>\n",
       "</div>"
      ],
      "text/plain": [
       "           id diagnosis  radius_mean  texture_mean  perimeter_mean  area_mean  \\\n",
       "0      842302         M        17.99         10.38          122.80     1001.0   \n",
       "1      842517         M        20.57         17.77          132.90     1326.0   \n",
       "2    84300903         M        19.69         21.25          130.00     1203.0   \n",
       "3    84348301         M        11.42         20.38           77.58      386.1   \n",
       "4    84358402         M        20.29         14.34          135.10     1297.0   \n",
       "..        ...       ...          ...           ...             ...        ...   \n",
       "564    926424         M        21.56         22.39          142.00     1479.0   \n",
       "565    926682         M        20.13         28.25          131.20     1261.0   \n",
       "566    926954         M        16.60         28.08          108.30      858.1   \n",
       "567    927241         M        20.60         29.33          140.10     1265.0   \n",
       "568     92751         B         7.76         24.54           47.92      181.0   \n",
       "\n",
       "     smoothness_mean  compactness_mean  concavity_mean  concave points_mean  \\\n",
       "0            0.11840           0.27760         0.30010              0.14710   \n",
       "1            0.08474           0.07864         0.08690              0.07017   \n",
       "2            0.10960           0.15990         0.19740              0.12790   \n",
       "3            0.14250           0.28390         0.24140              0.10520   \n",
       "4            0.10030           0.13280         0.19800              0.10430   \n",
       "..               ...               ...             ...                  ...   \n",
       "564          0.11100           0.11590         0.24390              0.13890   \n",
       "565          0.09780           0.10340         0.14400              0.09791   \n",
       "566          0.08455           0.10230         0.09251              0.05302   \n",
       "567          0.11780           0.27700         0.35140              0.15200   \n",
       "568          0.05263           0.04362         0.00000              0.00000   \n",
       "\n",
       "     ...  texture_worst  perimeter_worst  area_worst  smoothness_worst  \\\n",
       "0    ...          17.33           184.60      2019.0           0.16220   \n",
       "1    ...          23.41           158.80      1956.0           0.12380   \n",
       "2    ...          25.53           152.50      1709.0           0.14440   \n",
       "3    ...          26.50            98.87       567.7           0.20980   \n",
       "4    ...          16.67           152.20      1575.0           0.13740   \n",
       "..   ...            ...              ...         ...               ...   \n",
       "564  ...          26.40           166.10      2027.0           0.14100   \n",
       "565  ...          38.25           155.00      1731.0           0.11660   \n",
       "566  ...          34.12           126.70      1124.0           0.11390   \n",
       "567  ...          39.42           184.60      1821.0           0.16500   \n",
       "568  ...          30.37            59.16       268.6           0.08996   \n",
       "\n",
       "     compactness_worst  concavity_worst  concave points_worst  symmetry_worst  \\\n",
       "0              0.66560           0.7119                0.2654          0.4601   \n",
       "1              0.18660           0.2416                0.1860          0.2750   \n",
       "2              0.42450           0.4504                0.2430          0.3613   \n",
       "3              0.86630           0.6869                0.2575          0.6638   \n",
       "4              0.20500           0.4000                0.1625          0.2364   \n",
       "..                 ...              ...                   ...             ...   \n",
       "564            0.21130           0.4107                0.2216          0.2060   \n",
       "565            0.19220           0.3215                0.1628          0.2572   \n",
       "566            0.30940           0.3403                0.1418          0.2218   \n",
       "567            0.86810           0.9387                0.2650          0.4087   \n",
       "568            0.06444           0.0000                0.0000          0.2871   \n",
       "\n",
       "     fractal_dimension_worst  Unnamed: 32  \n",
       "0                    0.11890          NaN  \n",
       "1                    0.08902          NaN  \n",
       "2                    0.08758          NaN  \n",
       "3                    0.17300          NaN  \n",
       "4                    0.07678          NaN  \n",
       "..                       ...          ...  \n",
       "564                  0.07115          NaN  \n",
       "565                  0.06637          NaN  \n",
       "566                  0.07820          NaN  \n",
       "567                  0.12400          NaN  \n",
       "568                  0.07039          NaN  \n",
       "\n",
       "[569 rows x 33 columns]"
      ]
     },
     "execution_count": 202,
     "metadata": {},
     "output_type": "execute_result"
    }
   ],
   "source": [
    "df"
   ]
  },
  {
   "cell_type": "code",
   "execution_count": 203,
   "id": "3a0b4b5e-8782-44eb-8329-0591c8ea624e",
   "metadata": {},
   "outputs": [
    {
     "data": {
      "text/plain": [
       "id                           0\n",
       "diagnosis                    0\n",
       "radius_mean                  0\n",
       "texture_mean                 0\n",
       "perimeter_mean               0\n",
       "area_mean                    0\n",
       "smoothness_mean              0\n",
       "compactness_mean             0\n",
       "concavity_mean               0\n",
       "concave points_mean          0\n",
       "symmetry_mean                0\n",
       "fractal_dimension_mean       0\n",
       "radius_se                    0\n",
       "texture_se                   0\n",
       "perimeter_se                 0\n",
       "area_se                      0\n",
       "smoothness_se                0\n",
       "compactness_se               0\n",
       "concavity_se                 0\n",
       "concave points_se            0\n",
       "symmetry_se                  0\n",
       "fractal_dimension_se         0\n",
       "radius_worst                 0\n",
       "texture_worst                0\n",
       "perimeter_worst              0\n",
       "area_worst                   0\n",
       "smoothness_worst             0\n",
       "compactness_worst            0\n",
       "concavity_worst              0\n",
       "concave points_worst         0\n",
       "symmetry_worst               0\n",
       "fractal_dimension_worst      0\n",
       "Unnamed: 32                569\n",
       "dtype: int64"
      ]
     },
     "execution_count": 203,
     "metadata": {},
     "output_type": "execute_result"
    }
   ],
   "source": [
    "df.isna().sum()"
   ]
  },
  {
   "cell_type": "code",
   "execution_count": 204,
   "id": "d644d19d-2ca2-4e0b-9f6f-c862c1cd4f29",
   "metadata": {},
   "outputs": [],
   "source": [
    "df.drop(columns = \"Unnamed: 32\", axis = 1, inplace = True)"
   ]
  },
  {
   "cell_type": "code",
   "execution_count": 205,
   "id": "879b88ad-bf47-4428-a32a-c2ba339a9512",
   "metadata": {},
   "outputs": [
    {
     "data": {
      "text/plain": [
       "Index(['id', 'diagnosis', 'radius_mean', 'texture_mean', 'perimeter_mean',\n",
       "       'area_mean', 'smoothness_mean', 'compactness_mean', 'concavity_mean',\n",
       "       'concave points_mean', 'symmetry_mean', 'fractal_dimension_mean',\n",
       "       'radius_se', 'texture_se', 'perimeter_se', 'area_se', 'smoothness_se',\n",
       "       'compactness_se', 'concavity_se', 'concave points_se', 'symmetry_se',\n",
       "       'fractal_dimension_se', 'radius_worst', 'texture_worst',\n",
       "       'perimeter_worst', 'area_worst', 'smoothness_worst',\n",
       "       'compactness_worst', 'concavity_worst', 'concave points_worst',\n",
       "       'symmetry_worst', 'fractal_dimension_worst'],\n",
       "      dtype='object')"
      ]
     },
     "execution_count": 205,
     "metadata": {},
     "output_type": "execute_result"
    }
   ],
   "source": [
    "df.columns"
   ]
  },
  {
   "cell_type": "code",
   "execution_count": 206,
   "id": "886af676-3601-47e1-ab05-0733d160cc53",
   "metadata": {},
   "outputs": [
    {
     "data": {
      "text/plain": [
       "B    357\n",
       "M    212\n",
       "Name: diagnosis, dtype: int64"
      ]
     },
     "execution_count": 206,
     "metadata": {},
     "output_type": "execute_result"
    }
   ],
   "source": [
    "df.diagnosis.value_counts()"
   ]
  },
  {
   "cell_type": "code",
   "execution_count": 207,
   "id": "6fb3521c-9bca-4559-b024-2cec7ef1a0a7",
   "metadata": {},
   "outputs": [],
   "source": [
    "M = df.loc[df.diagnosis == 'M']"
   ]
  },
  {
   "cell_type": "code",
   "execution_count": 208,
   "id": "638454f7-0fb5-4c54-a2fb-a93147227c72",
   "metadata": {},
   "outputs": [],
   "source": [
    "B = df.loc[df.diagnosis == 'B']"
   ]
  },
  {
   "cell_type": "code",
   "execution_count": 209,
   "id": "c28f7f53-914c-4389-abae-321eec50a133",
   "metadata": {},
   "outputs": [
    {
     "data": {
      "image/png": "[encoded data removed]",
      "text/plain": [
       "<Figure size 1080x504 with 1 Axes>"
      ]
     },
     "metadata": {
      "needs_background": "light"
     },
     "output_type": "display_data"
    }
   ],
   "source": [
    "import matplotlib.pyplot as plt\n",
    "plt.figure(figsize=(15,7))\n",
    "plt.title(\"Maligno vs Benigno\")\n",
    "plt.xlabel(\"Simetria média\")\n",
    "plt.ylabel(\"Perímetro médio\")\n",
    "plt.scatter(M.symmetry_mean, M.perimeter_mean, color = \"red\", label = \" \", alpha = 0.3)\n",
    "plt.scatter(B.symmetry_mean, B.perimeter_mean, color = \"green\", label = \" \", alpha = 0.3)\n",
    "plt.legend()\n",
    "plt.show()"
   ]
  },
  {
   "cell_type": "markdown",
   "id": "f7382a79-45eb-47da-b7c7-d020cc054ff7",
   "metadata": {},
   "source": [
    "### Analisando pureza"
   ]
  },
  {
   "cell_type": "code",
   "execution_count": 210,
   "id": "afae2f4e-d59c-46cc-b2e8-0fd9be07d2d6",
   "metadata": {},
   "outputs": [],
   "source": [
    "def indice_gini(valores_positivos, total_conjunto):\n",
    "    prob_valores_positivos = valores_positivos/total_conjunto\n",
    "    prob_valores_negativos = (1 - prob_valores_positivos)\n",
    "    chute_valores_positivos = prob_valores_positivos\n",
    "    chute_valores_negativos = (1 - chute_valores_positivos)\n",
    "    erro_valores_positivos = prob_valores_negativos * chute_valores_positivos\n",
    "    erro_valores_negativos = prob_valores_positivos * chute_valores_negativos\n",
    "    gini = erro_valores_positivos + erro_valores_negativos\n",
    "    return gini"
   ]
  },
  {
   "cell_type": "code",
   "execution_count": 217,
   "id": "54ce72c0-b30b-4149-a7a1-56a95675538e",
   "metadata": {},
   "outputs": [],
   "source": [
    "# ------------------------------------------------------------------------------------------------------------- #\n",
    "# Função: calc_geral\n",
    "# Descrição: realiza calculo índice de gini\n",
    "# Parametros: \n",
    "# Retorna: Retorna impureza\n",
    "# -------------------------------------------------------------------------------------------------------------- #\n",
    "def calc_geral():\n",
    "    \n",
    "    #Calculando parâmetros\n",
    "    benigno = len(B)\n",
    "    maligno = len(M)\n",
    "    total = len(df)\n",
    "    \n",
    "    #Chamando função Gini\n",
    "    impureza = indice_gini(benigno, total)\n",
    "    \n",
    "    return 1- impureza"
   ]
  },
  {
   "cell_type": "code",
   "execution_count": 218,
   "id": "1cbac1f8-8b2e-4888-aa46-716a644d3bed",
   "metadata": {},
   "outputs": [
    {
     "data": {
      "text/plain": [
       "0.5324699392453075"
      ]
     },
     "execution_count": 218,
     "metadata": {},
     "output_type": "execute_result"
    }
   ],
   "source": [
    "calc_geral()"
   ]
  },
  {
   "cell_type": "markdown",
   "id": "bde101bf-dedc-4180-801e-a0d6beb0239b",
   "metadata": {},
   "source": [
    "### Aplicação"
   ]
  },
  {
   "cell_type": "code",
   "execution_count": 219,
   "id": "c45ae174-5a85-4a11-9411-8a1af3ab9f4a",
   "metadata": {},
   "outputs": [],
   "source": [
    "#-----------------------------------------------------------------------------#\n",
    "#Separando dataframe em variáveis independentes (X) e dependente (Y)\n",
    "#-----------------------------------------------------------------------------#\n",
    "X = df.drop(['diagnosis', 'id'], axis=1).values\n",
    "y = df.diagnosis.values"
   ]
  },
  {
   "cell_type": "code",
   "execution_count": 220,
   "id": "647eebb8-80df-4afb-bcad-a12d293e50a7",
   "metadata": {},
   "outputs": [],
   "source": [
    "#--------------------------------------------------------------#\n",
    "#Forma de padronização (Incorreta), não se padroniza alterando o dataframe inicial para aplicação de um modelo, padroniza-se os dados de treino e teste\n",
    "#--------------------------------------------------------------#\n",
    "import numpy as np\n",
    "#X = X - np.min(X) / (np.max(X) - np.min(X))"
   ]
  },
  {
   "cell_type": "code",
   "execution_count": 221,
   "id": "69be48c8-6ef2-47e3-9abe-e929dfa64fad",
   "metadata": {},
   "outputs": [],
   "source": [
    "# ------------------------------------------------------------------------------------------------------------- #\n",
    "# Função: Separador\n",
    "# Descrição: realiza a separação do conjunto de dados\n",
    "# Parametros: 1) X = conjunto de dados para aprender, 2) y = Conjunto de dados para verificar aprendizado e prever\n",
    "# Retorna: Retorna dados separados, para treino e para teste\n",
    "#(test_size) = tamanho do teste\n",
    "# -------------------------------------------------------------------------------------------------------------- #\n",
    "def Separador(X, y):\n",
    "    validador = StratifiedShuffleSplit(n_splits=1, test_size=0.3, random_state=0)\n",
    "\n",
    "    for treino, teste in validador.split(X, y):\n",
    "        X_train, X_test = X[treino], X[teste]\n",
    "        y_train, y_test = y[treino], y[teste]\n",
    "    return X_train, X_test, y_train, y_test"
   ]
  },
  {
   "cell_type": "code",
   "execution_count": 222,
   "id": "cd2e728f-dc0e-4f6a-8c46-ea60d6af9a32",
   "metadata": {},
   "outputs": [],
   "source": [
    "X_train, X_test, y_train, y_test = Separador(X, y)"
   ]
  },
  {
   "cell_type": "code",
   "execution_count": 223,
   "id": "0d2f2927-d151-4ffd-983f-a65b6f737907",
   "metadata": {},
   "outputs": [
    {
     "data": {
      "text/plain": [
       "(398, 398)"
      ]
     },
     "execution_count": 223,
     "metadata": {},
     "output_type": "execute_result"
    }
   ],
   "source": [
    "len(X_train), len(y_train)"
   ]
  },
  {
   "cell_type": "code",
   "execution_count": 224,
   "id": "653b0a37-806a-477a-bf89-5b54d366d983",
   "metadata": {},
   "outputs": [
    {
     "data": {
      "text/plain": [
       "(171, 171)"
      ]
     },
     "execution_count": 224,
     "metadata": {},
     "output_type": "execute_result"
    }
   ],
   "source": [
    "len(X_test), len(y_test)"
   ]
  },
  {
   "cell_type": "code",
   "execution_count": 225,
   "id": "d771120e-48c4-4b01-b6ba-532b940b7f3a",
   "metadata": {
    "tags": []
   },
   "outputs": [],
   "source": [
    "#--------------------------------------------------------------#\n",
    "#Forma de padronização (Correta)\n",
    "#--------------------------------------------------------------#\n",
    "from sklearn import preprocessing\n",
    "scaler = preprocessing.StandardScaler().fit(X_train)\n",
    "X_train = scaler.transform(X_train)\n",
    "X_test = scaler.transform(X_test)"
   ]
  },
  {
   "cell_type": "code",
   "execution_count": 226,
   "id": "e31d96a8-1500-4737-815f-393674833251",
   "metadata": {},
   "outputs": [],
   "source": [
    "classificador = tree.DecisionTreeClassifier(splitter = 'best', max_depth = 6, criterion = \"gini\", min_samples_split = 2)\n",
    "#  random_state = 0 (valor que o modelo toma para iniciar o treino)\n",
    "#, criterion = None (critério de impureza “gini” ou “entropy”)\n",
    "#, splitter = None (estratégia para dividir o nó, \"best\" (mehor atributo) ou \"random\" (atributo aleatório))\n",
    "#, max_depth = None (profundidade da árvore)\n",
    "#, min_samples_split = None (numero de amostras mínima pra considerar um nó)"
   ]
  },
  {
   "cell_type": "code",
   "execution_count": 227,
   "id": "1217184d-c84d-40af-8ce4-55ad1bfc8d95",
   "metadata": {},
   "outputs": [],
   "source": [
    "# ------------------------------------------------------------------------------------------------------------- #\n",
    "# Função: Teste_treino\n",
    "# Descrição: Ajusta o treino e o teste nas variáveis separadas acima\n",
    "# Parametros: 1) classificador = modelo de aprendizado supervisionado, 2) X_train = Base para treino, \n",
    "#             3) X_test = dados para que o modelo teste o aprendizado  4) y_train = base para treino (0 e 1)\n",
    "# Retorna: previsão realizado em cima do X_test\n",
    "# -------------------------------------------------------------------------------------------------------------- #\n",
    "def Teste_treino(classificador, X_train, X_test, y_train):\n",
    "    arvore = classificador.fit(X_train, y_train)\n",
    "    y_pred = arvore.predict(X_test)\n",
    "    return arvore, y_pred"
   ]
  },
  {
   "cell_type": "code",
   "execution_count": 228,
   "id": "6789ab38-b270-4bae-957e-7ca4df69d311",
   "metadata": {},
   "outputs": [],
   "source": [
    "arvore, y_pred = Teste_treino(classificador, X_train, X_test, y_train)"
   ]
  },
  {
   "cell_type": "code",
   "execution_count": 229,
   "id": "7cbfdeae-f939-4b29-b4fc-df7e6446bf42",
   "metadata": {},
   "outputs": [
    {
     "name": "stdout",
     "output_type": "stream",
     "text": [
      "|--- feature_7 <= 0.01\n",
      "|   |--- feature_23 <= 0.15\n",
      "|   |   |--- feature_13 <= 0.09\n",
      "|   |   |   |--- feature_25 <= 1.27\n",
      "|   |   |   |   |--- feature_22 <= 0.17\n",
      "|   |   |   |   |   |--- class: B\n",
      "|   |   |   |   |--- feature_22 >  0.17\n",
      "|   |   |   |   |   |--- feature_3 <= -0.11\n",
      "|   |   |   |   |   |   |--- class: M\n",
      "|   |   |   |   |   |--- feature_3 >  -0.11\n",
      "|   |   |   |   |   |   |--- class: B\n",
      "|   |   |   |--- feature_25 >  1.27\n",
      "|   |   |   |   |--- class: M\n",
      "|   |   |--- feature_13 >  0.09\n",
      "|   |   |   |--- feature_15 <= -0.62\n",
      "|   |   |   |   |--- class: M\n",
      "|   |   |   |--- feature_15 >  -0.62\n",
      "|   |   |   |   |--- class: B\n",
      "|   |--- feature_23 >  0.15\n",
      "|   |   |--- feature_24 <= -1.42\n",
      "|   |   |   |--- class: B\n",
      "|   |   |--- feature_24 >  -1.42\n",
      "|   |   |   |--- class: M\n",
      "|--- feature_7 >  0.01\n",
      "|   |--- feature_27 <= -0.14\n",
      "|   |   |--- class: B\n",
      "|   |--- feature_27 >  -0.14\n",
      "|   |   |--- feature_23 <= -0.30\n",
      "|   |   |   |--- feature_4 <= 0.86\n",
      "|   |   |   |   |--- class: B\n",
      "|   |   |   |--- feature_4 >  0.86\n",
      "|   |   |   |   |--- class: M\n",
      "|   |   |--- feature_23 >  -0.30\n",
      "|   |   |   |--- feature_26 <= -0.42\n",
      "|   |   |   |   |--- class: B\n",
      "|   |   |   |--- feature_26 >  -0.42\n",
      "|   |   |   |   |--- feature_10 <= -0.56\n",
      "|   |   |   |   |   |--- feature_29 <= -0.20\n",
      "|   |   |   |   |   |   |--- class: B\n",
      "|   |   |   |   |   |--- feature_29 >  -0.20\n",
      "|   |   |   |   |   |   |--- class: M\n",
      "|   |   |   |   |--- feature_10 >  -0.56\n",
      "|   |   |   |   |   |--- class: M\n",
      "\n"
     ]
    }
   ],
   "source": [
    "text_representation = tree.export_text(arvore)\n",
    "print(text_representation)"
   ]
  },
  {
   "cell_type": "code",
   "execution_count": 230,
   "id": "a3244e99-c2b1-44dc-9c2e-8ea2cac2affe",
   "metadata": {},
   "outputs": [
    {
     "name": "stdout",
     "output_type": "stream",
     "text": [
      "6\n"
     ]
    }
   ],
   "source": [
    "print(arvore.tree_.max_depth)"
   ]
  },
  {
   "cell_type": "code",
   "execution_count": 231,
   "id": "dcb79251-e1a1-48f6-b8ba-8937f72de4a7",
   "metadata": {},
   "outputs": [],
   "source": [
    "from sklearn.metrics import accuracy_score\n",
    "from sklearn.metrics import confusion_matrix\n",
    "from sklearn.metrics import precision_score\n",
    "from sklearn.metrics import recall_score\n",
    "\n",
    "# ------------------------------------------------------------------------------------------------------------- #\n",
    "# Função: acuracia\n",
    "# Descrição: Trás 4 formas de analisarmos a acertividade do modelo\n",
    "# Parametros: 1) y_test = \"gabarito\" do dataframe 2) y_pred = Predição realizada pelo modelo de treino, \n",
    "# Retorna: As análises de acurácia\n",
    "# -------------------------------------------------------------------------------------------------------------- #\n",
    "def acuracia(y_test, y_pred):\n",
    "  print(accuracy_score(y_test, y_pred)) #(indica performance de acertividade geral do modelo)\n",
    "  print(precision_score(y_test, y_pred, pos_label='B')) #(Dentre a classe, quais foram certas e quais foram erradas)\n",
    "  print(recall_score(y_test, y_pred, pos_label='B')) #(Dentre as situações onde as classes são \"Benigno\", quantas foram certas)\n",
    "  print(pd.DataFrame(confusion_matrix(y_test, y_pred))) "
   ]
  },
  {
   "cell_type": "code",
   "execution_count": 232,
   "id": "122ab772-395b-43b1-8c4d-052a9df0a510",
   "metadata": {},
   "outputs": [
    {
     "name": "stdout",
     "output_type": "stream",
     "text": [
      "0.8947368421052632\n",
      "0.9587628865979382\n",
      "0.8691588785046729\n",
      "    0   1\n",
      "0  93  14\n",
      "1   4  60\n"
     ]
    }
   ],
   "source": [
    "acuracia(y_test, y_pred)"
   ]
  },
  {
   "cell_type": "code",
   "execution_count": 233,
   "id": "796736ba-2ac5-419f-b43a-079f30903403",
   "metadata": {},
   "outputs": [],
   "source": [
    "import matplotlib.pyplot as plt\n",
    "# ------------------------------------------------------------------------------------------------------------- #\n",
    "# Função: salvar_arvore\n",
    "# Descrição: Produz a arvore de decisão com seus nós #samples: Soma dos dados naquele nó\n",
    "# Parametros: 1) classificador = modelo de aprendizado supervisionado, 2) Nome = Nome do png, \n",
    "# Retorna: baixa um arquivo png da arvore \n",
    "# -------------------------------------------------------------------------------------------------------------- #\n",
    "def salvar_arvore(classificador, nome):\n",
    "  plt.figure(figsize=(250,100))\n",
    "  tree.plot_tree(classificador, filled=True, fontsize=15)\n",
    "  plt.savefig(nome)\n",
    "  plt.close()"
   ]
  },
  {
   "cell_type": "code",
   "execution_count": 234,
   "id": "ffd245db-325f-45e4-9ae6-aef6e8347090",
   "metadata": {},
   "outputs": [],
   "source": [
    "salvar_arvore(classificador, \"Arvore_cancer.png\")"
   ]
  },
  {
   "cell_type": "code",
   "execution_count": null,
   "id": "4d6c44af-d14e-4a0f-9448-12fffae06429",
   "metadata": {},
   "outputs": [],
   "source": []
  }
 ],
 "metadata": {
  "kernelspec": {
   "display_name": "Python 3",
   "language": "python",
   "name": "python3"
  },
  "language_info": {
   "codemirror_mode": {
    "name": "ipython",
    "version": 3
   },
   "file_extension": ".py",
   "mimetype": "text/x-python",
   "name": "python",
   "nbconvert_exporter": "python",
   "pygments_lexer": "ipython3",
   "version": "3.8.8"
  }
 },
 "nbformat": 4,
 "nbformat_minor": 5
}
